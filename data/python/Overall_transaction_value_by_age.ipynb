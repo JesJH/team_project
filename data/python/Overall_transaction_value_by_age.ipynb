{
 "cells": [
  {
   "cell_type": "code",
   "execution_count": 121,
   "metadata": {},
   "outputs": [],
   "source": [
    "import pandas as pd\n",
    "from datetime import date, datetime\n",
    "\n",
    "import matplotlib.pyplot as plt\n",
    "import numpy as np\n",
    "import statsmodels.api as sm\n",
    "\n",
    "import warnings\n",
    "warnings.filterwarnings('ignore')\n",
    "\n",
    "pd.set_option('display.max_rows',50)\n",
    "pd.set_option('display.max_columns',50)\n",
    "pd.set_option('display.width',100)\n",
    "\n",
    "# For Linear Regression and Plots\n",
    "import pandas as pd\n",
    "from sklearn.preprocessing import LabelEncoder\n",
    "from sklearn.model_selection import train_test_split\n",
    "from sklearn.linear_model import LinearRegression\n",
    "from sklearn.metrics import r2_score, mean_squared_error\n",
    "import matplotlib.pyplot as plt\n",
    "import seaborn as sns\n"
   ]
  },
  {
   "cell_type": "code",
   "execution_count": 122,
   "metadata": {},
   "outputs": [
    {
     "data": {
      "text/plain": [
       "(295617, 25)"
      ]
     },
     "execution_count": 122,
     "metadata": {},
     "output_type": "execute_result"
    }
   ],
   "source": [
    "#-rwxrwxrwx 1 ubuntu ubuntu 61M Jun 21 21:35 ./df/processed/retail_df_clean.csv\n",
    "df = pd.read_csv(r'../processed/retail_data_clean.csv')\n",
    "# Select columns I need\n",
    "df = df[['Transaction_ID','Customer_ID','City', 'State','Country', 'Age', 'Gender', 'Income',\n",
    "       'Customer_Segment', 'Date', 'Year', 'Month', 'Time', 'Total_Purchases',\n",
    "       'Amount', 'Total_Amount', 'Product_Category', 'Product_Brand',\n",
    "       'Product_Type', 'Feedback', 'Shipping_Method', 'Payment_Method',\n",
    "       'Order_Status', 'Ratings', 'products']]\n",
    "df.shape\n"
   ]
  },
  {
   "cell_type": "code",
   "execution_count": 123,
   "metadata": {},
   "outputs": [
    {
     "data": {
      "text/plain": [
       "Index(['Transaction_ID', 'Customer_ID', 'City', 'State', 'Country', 'Age', 'Gender', 'Income',\n",
       "       'Customer_Segment', 'Date', 'Year', 'Month', 'Time', 'Total_Purchases', 'Amount',\n",
       "       'Total_Amount', 'Product_Category', 'Product_Brand', 'Product_Type', 'Feedback',\n",
       "       'Shipping_Method', 'Payment_Method', 'Order_Status', 'Ratings', 'products'],\n",
       "      dtype='object')"
      ]
     },
     "execution_count": 123,
     "metadata": {},
     "output_type": "execute_result"
    }
   ],
   "source": [
    "df.columns\n"
   ]
  },
  {
   "cell_type": "code",
   "execution_count": 124,
   "metadata": {},
   "outputs": [
    {
     "data": {
      "text/plain": [
       "Transaction_ID      float64\n",
       "Customer_ID         float64\n",
       "City                 object\n",
       "State                object\n",
       "Country              object\n",
       "Age                 float64\n",
       "Gender               object\n",
       "Income               object\n",
       "Customer_Segment     object\n",
       "Date                 object\n",
       "Year                float64\n",
       "Month                object\n",
       "Time                 object\n",
       "Total_Purchases     float64\n",
       "Amount              float64\n",
       "Total_Amount        float64\n",
       "Product_Category     object\n",
       "Product_Brand        object\n",
       "Product_Type         object\n",
       "Feedback             object\n",
       "Shipping_Method      object\n",
       "Payment_Method       object\n",
       "Order_Status         object\n",
       "Ratings             float64\n",
       "products             object\n",
       "dtype: object"
      ]
     },
     "execution_count": 124,
     "metadata": {},
     "output_type": "execute_result"
    }
   ],
   "source": [
    "df.dtypes\n"
   ]
  },
  {
   "cell_type": "code",
   "execution_count": 125,
   "metadata": {},
   "outputs": [
    {
     "data": {
      "text/plain": [
       "Transaction_ID        int64\n",
       "Customer_ID           int64\n",
       "City                 object\n",
       "State                object\n",
       "Country              object\n",
       "Age                   int64\n",
       "Gender               object\n",
       "Income               object\n",
       "Customer_Segment     object\n",
       "Date                 object\n",
       "Year                  int64\n",
       "Month                object\n",
       "Time                 object\n",
       "Total_Purchases       int64\n",
       "Amount              float64\n",
       "Total_Amount        float64\n",
       "Product_Category     object\n",
       "Product_Brand        object\n",
       "Product_Type         object\n",
       "Feedback             object\n",
       "Shipping_Method      object\n",
       "Payment_Method       object\n",
       "Order_Status         object\n",
       "Ratings               int64\n",
       "products             object\n",
       "dtype: object"
      ]
     },
     "execution_count": 125,
     "metadata": {},
     "output_type": "execute_result"
    }
   ],
   "source": [
    "df['Transaction_ID'] = df['Transaction_ID'].astype(int)\n",
    "df['Customer_ID'] = df['Customer_ID'].astype(int)\n",
    "df['Age'] = df['Age'].astype(int)\n",
    "df['Year'] = df['Year'].astype(int)\n",
    "df['Total_Purchases'] = df['Total_Purchases'].astype(int)\n",
    "df['Ratings'] = df['Ratings'].astype(int)\n",
    "df.dtypes\n"
   ]
  },
  {
   "cell_type": "code",
   "execution_count": 126,
   "metadata": {},
   "outputs": [
    {
     "data": {
      "text/html": [
       "<div>\n",
       "<style scoped>\n",
       "    .dataframe tbody tr th:only-of-type {\n",
       "        vertical-align: middle;\n",
       "    }\n",
       "\n",
       "    .dataframe tbody tr th {\n",
       "        vertical-align: top;\n",
       "    }\n",
       "\n",
       "    .dataframe thead th {\n",
       "        text-align: right;\n",
       "    }\n",
       "</style>\n",
       "<table border=\"1\" class=\"dataframe\">\n",
       "  <thead>\n",
       "    <tr style=\"text-align: right;\">\n",
       "      <th></th>\n",
       "      <th>Transaction_ID</th>\n",
       "      <th>Customer_ID</th>\n",
       "      <th>City</th>\n",
       "      <th>State</th>\n",
       "      <th>Country</th>\n",
       "      <th>Age</th>\n",
       "      <th>Gender</th>\n",
       "      <th>Income</th>\n",
       "      <th>Customer_Segment</th>\n",
       "      <th>Date</th>\n",
       "      <th>Year</th>\n",
       "      <th>Month</th>\n",
       "      <th>Time</th>\n",
       "      <th>Total_Purchases</th>\n",
       "      <th>Amount</th>\n",
       "      <th>Total_Amount</th>\n",
       "      <th>Product_Category</th>\n",
       "      <th>Product_Brand</th>\n",
       "      <th>Product_Type</th>\n",
       "      <th>Feedback</th>\n",
       "      <th>Shipping_Method</th>\n",
       "      <th>Payment_Method</th>\n",
       "      <th>Order_Status</th>\n",
       "      <th>Ratings</th>\n",
       "      <th>products</th>\n",
       "    </tr>\n",
       "  </thead>\n",
       "  <tbody>\n",
       "    <tr>\n",
       "      <th>0</th>\n",
       "      <td>8691788</td>\n",
       "      <td>37249</td>\n",
       "      <td>Dortmund</td>\n",
       "      <td>Berlin</td>\n",
       "      <td>Germany</td>\n",
       "      <td>21</td>\n",
       "      <td>Male</td>\n",
       "      <td>Low</td>\n",
       "      <td>Regular</td>\n",
       "      <td>2023-09-18</td>\n",
       "      <td>2023</td>\n",
       "      <td>September</td>\n",
       "      <td>22:03:55</td>\n",
       "      <td>3</td>\n",
       "      <td>108.028757</td>\n",
       "      <td>324.086270</td>\n",
       "      <td>Clothing</td>\n",
       "      <td>Nike</td>\n",
       "      <td>Shorts</td>\n",
       "      <td>Excellent</td>\n",
       "      <td>Same-Day</td>\n",
       "      <td>Debit Card</td>\n",
       "      <td>Shipped</td>\n",
       "      <td>5</td>\n",
       "      <td>Cycling shorts</td>\n",
       "    </tr>\n",
       "    <tr>\n",
       "      <th>1</th>\n",
       "      <td>2174773</td>\n",
       "      <td>69749</td>\n",
       "      <td>Nottingham</td>\n",
       "      <td>England</td>\n",
       "      <td>UK</td>\n",
       "      <td>19</td>\n",
       "      <td>Female</td>\n",
       "      <td>Low</td>\n",
       "      <td>Premium</td>\n",
       "      <td>2023-12-31</td>\n",
       "      <td>2023</td>\n",
       "      <td>December</td>\n",
       "      <td>8:42:04</td>\n",
       "      <td>2</td>\n",
       "      <td>403.353907</td>\n",
       "      <td>806.707815</td>\n",
       "      <td>Electronics</td>\n",
       "      <td>Samsung</td>\n",
       "      <td>Tablet</td>\n",
       "      <td>Excellent</td>\n",
       "      <td>Standard</td>\n",
       "      <td>Credit Card</td>\n",
       "      <td>Processing</td>\n",
       "      <td>4</td>\n",
       "      <td>Lenovo Tab</td>\n",
       "    </tr>\n",
       "    <tr>\n",
       "      <th>2</th>\n",
       "      <td>6679610</td>\n",
       "      <td>30192</td>\n",
       "      <td>Geelong</td>\n",
       "      <td>New South Wales</td>\n",
       "      <td>Australia</td>\n",
       "      <td>48</td>\n",
       "      <td>Male</td>\n",
       "      <td>Low</td>\n",
       "      <td>Regular</td>\n",
       "      <td>2023-04-26</td>\n",
       "      <td>2023</td>\n",
       "      <td>April</td>\n",
       "      <td>4:06:29</td>\n",
       "      <td>3</td>\n",
       "      <td>354.477600</td>\n",
       "      <td>1063.432799</td>\n",
       "      <td>Books</td>\n",
       "      <td>Penguin Books</td>\n",
       "      <td>Children's</td>\n",
       "      <td>Average</td>\n",
       "      <td>Same-Day</td>\n",
       "      <td>Credit Card</td>\n",
       "      <td>Processing</td>\n",
       "      <td>2</td>\n",
       "      <td>Sports equipment</td>\n",
       "    </tr>\n",
       "    <tr>\n",
       "      <th>3</th>\n",
       "      <td>7232460</td>\n",
       "      <td>62101</td>\n",
       "      <td>Edmonton</td>\n",
       "      <td>Ontario</td>\n",
       "      <td>Canada</td>\n",
       "      <td>56</td>\n",
       "      <td>Male</td>\n",
       "      <td>High</td>\n",
       "      <td>Premium</td>\n",
       "      <td>2023-05-08</td>\n",
       "      <td>2023</td>\n",
       "      <td>May</td>\n",
       "      <td>14:55:17</td>\n",
       "      <td>7</td>\n",
       "      <td>352.407717</td>\n",
       "      <td>2466.854021</td>\n",
       "      <td>Home Decor</td>\n",
       "      <td>Home Depot</td>\n",
       "      <td>Tools</td>\n",
       "      <td>Excellent</td>\n",
       "      <td>Standard</td>\n",
       "      <td>PayPal</td>\n",
       "      <td>Processing</td>\n",
       "      <td>4</td>\n",
       "      <td>Utility knife</td>\n",
       "    </tr>\n",
       "    <tr>\n",
       "      <th>4</th>\n",
       "      <td>4983775</td>\n",
       "      <td>27901</td>\n",
       "      <td>Bristol</td>\n",
       "      <td>England</td>\n",
       "      <td>UK</td>\n",
       "      <td>22</td>\n",
       "      <td>Male</td>\n",
       "      <td>Low</td>\n",
       "      <td>Premium</td>\n",
       "      <td>2024-01-10</td>\n",
       "      <td>2024</td>\n",
       "      <td>January</td>\n",
       "      <td>16:54:07</td>\n",
       "      <td>2</td>\n",
       "      <td>124.276524</td>\n",
       "      <td>248.553049</td>\n",
       "      <td>Grocery</td>\n",
       "      <td>Nestle</td>\n",
       "      <td>Chocolate</td>\n",
       "      <td>Bad</td>\n",
       "      <td>Standard</td>\n",
       "      <td>Cash</td>\n",
       "      <td>Shipped</td>\n",
       "      <td>1</td>\n",
       "      <td>Chocolate cookies</td>\n",
       "    </tr>\n",
       "  </tbody>\n",
       "</table>\n",
       "</div>"
      ],
      "text/plain": [
       "   Transaction_ID  Customer_ID        City            State    Country  Age  Gender Income  \\\n",
       "0         8691788        37249    Dortmund           Berlin    Germany   21    Male    Low   \n",
       "1         2174773        69749  Nottingham          England         UK   19  Female    Low   \n",
       "2         6679610        30192     Geelong  New South Wales  Australia   48    Male    Low   \n",
       "3         7232460        62101    Edmonton          Ontario     Canada   56    Male   High   \n",
       "4         4983775        27901     Bristol          England         UK   22    Male    Low   \n",
       "\n",
       "  Customer_Segment        Date  Year      Month      Time  Total_Purchases      Amount  \\\n",
       "0          Regular  2023-09-18  2023  September  22:03:55                3  108.028757   \n",
       "1          Premium  2023-12-31  2023   December   8:42:04                2  403.353907   \n",
       "2          Regular  2023-04-26  2023      April   4:06:29                3  354.477600   \n",
       "3          Premium  2023-05-08  2023        May  14:55:17                7  352.407717   \n",
       "4          Premium  2024-01-10  2024    January  16:54:07                2  124.276524   \n",
       "\n",
       "   Total_Amount Product_Category  Product_Brand Product_Type   Feedback Shipping_Method  \\\n",
       "0    324.086270         Clothing           Nike       Shorts  Excellent        Same-Day   \n",
       "1    806.707815      Electronics        Samsung       Tablet  Excellent        Standard   \n",
       "2   1063.432799            Books  Penguin Books   Children's    Average        Same-Day   \n",
       "3   2466.854021       Home Decor     Home Depot        Tools  Excellent        Standard   \n",
       "4    248.553049          Grocery         Nestle    Chocolate        Bad        Standard   \n",
       "\n",
       "  Payment_Method Order_Status  Ratings           products  \n",
       "0     Debit Card      Shipped        5     Cycling shorts  \n",
       "1    Credit Card   Processing        4         Lenovo Tab  \n",
       "2    Credit Card   Processing        2   Sports equipment  \n",
       "3         PayPal   Processing        4      Utility knife  \n",
       "4           Cash      Shipped        1  Chocolate cookies  "
      ]
     },
     "execution_count": 126,
     "metadata": {},
     "output_type": "execute_result"
    }
   ],
   "source": [
    "df.head()\n"
   ]
  },
  {
   "cell_type": "code",
   "execution_count": 127,
   "metadata": {},
   "outputs": [
    {
     "data": {
      "text/plain": [
       "Index(['Amount', 'Total_Amount'], dtype='object')"
      ]
     },
     "execution_count": 127,
     "metadata": {},
     "output_type": "execute_result"
    }
   ],
   "source": [
    "#Filtering out float types\n",
    "df.select_dtypes(include=['float']).columns\n"
   ]
  },
  {
   "cell_type": "code",
   "execution_count": 128,
   "metadata": {},
   "outputs": [
    {
     "data": {
      "text/plain": [
       "<bound method Series.unique of 0         5\n",
       "1         4\n",
       "2         2\n",
       "3         4\n",
       "4         1\n",
       "         ..\n",
       "295612    1\n",
       "295613    5\n",
       "295614    2\n",
       "295615    4\n",
       "295616    2\n",
       "Name: Ratings, Length: 295617, dtype: int64>"
      ]
     },
     "execution_count": 128,
     "metadata": {},
     "output_type": "execute_result"
    }
   ],
   "source": [
    "df['Ratings'].unique\n"
   ]
  },
  {
   "cell_type": "code",
   "execution_count": 129,
   "metadata": {},
   "outputs": [
    {
     "data": {
      "text/plain": [
       "array([18, 19, 20, 21, 22, 23, 24, 25, 26, 27, 28, 29, 30, 31, 32, 33, 34,\n",
       "       35, 36, 37, 38, 39, 40, 41, 42, 43, 44, 45, 46, 47, 48, 49, 50, 51,\n",
       "       52, 53, 54, 55, 56, 57, 58, 59, 60, 61, 62, 63, 64, 65, 66, 67, 68,\n",
       "       69, 70])"
      ]
     },
     "execution_count": 129,
     "metadata": {},
     "output_type": "execute_result"
    }
   ],
   "source": [
    "df['Age'].sort_values().unique()\n"
   ]
  },
  {
   "cell_type": "code",
   "execution_count": 130,
   "metadata": {},
   "outputs": [
    {
     "name": "stdout",
     "output_type": "stream",
     "text": [
      "R-squared: 0.8709274502671402\n",
      "Mean Squared Error: 164867.67995469391\n"
     ]
    }
   ],
   "source": [
    "#Overall transaction value by age (bin age for customer segments)\n",
    "\n",
    "# Bin the age variable\n",
    "bins = [0, 18, 25, 35, 45, 55, 65, 100]\n",
    "labels = ['<18', '18-24', '25-34', '35-44', '45-54', '55-64', '65+']\n",
    "df['Age_Group'] = pd.cut(df['Age'], bins=bins, labels=labels)\n",
    "\n",
    "# Encoding categorical variables\n",
    "label_encoders = {}\n",
    "for column in ['City', 'State', 'Country', 'Gender', 'Income', 'Customer_Segment', \n",
    "               'Month', 'Product_Category', 'Product_Brand', 'Product_Type', \n",
    "               'Feedback', 'Shipping_Method', 'Payment_Method', 'Order_Status', 'products', 'Age_Group']:\n",
    "    label_encoders[column] = LabelEncoder()\n",
    "    df[column] = label_encoders[column].fit_transform(df[column])\n",
    "\n",
    "# Convert Date and Time to datetime\n",
    "df['Date'] = pd.to_datetime(df['Date'])\n",
    "df['Time'] = pd.to_datetime(df['Time']).dt.time\n",
    "\n",
    "# Extract features from Date\n",
    "df['Day'] = df['Date'].dt.day\n",
    "df['Weekday'] = df['Date'].dt.weekday\n",
    "\n",
    "# Drop Date and Time columns\n",
    "df = df.drop(['Date', 'Time'], axis=1)\n",
    "\n",
    "# Define the target variable and features\n",
    "X = df.drop(['Total_Amount', 'Transaction_ID', 'Customer_ID', 'Age'], axis=1)\n",
    "\n",
    "#X = df.drop(['Total_Amount', 'Amount', 'Transaction_ID', 'Customer_ID'], axis=1)\n",
    "y = df['Total_Amount']\n",
    "#y = df['Amount']\n",
    "\n",
    "# Split the data into training and testing sets\n",
    "X_train, X_test, y_train, y_test = train_test_split(X, y, test_size=0.3, random_state=42)\n",
    "\n",
    "# Create the model\n",
    "model = LinearRegression()\n",
    "\n",
    "# Train the model\n",
    "model.fit(X_train, y_train)\n",
    "\n",
    "# Predict on the test set\n",
    "y_pred = model.predict(X_test)\n",
    "\n",
    "# Evaluate the model\n",
    "r2 = r2_score(y_test, y_pred)\n",
    "mse = mean_squared_error(y_test, y_pred)\n",
    "\n",
    "print(f'R-squared: {r2}')\n",
    "print(f'Mean Squared Error: {mse}')\n"
   ]
  },
  {
   "cell_type": "code",
   "execution_count": 131,
   "metadata": {},
   "outputs": [
    {
     "data": {
      "image/png": "[encoded data removed]",
      "text/plain": [
       "<Figure size 1400x600 with 2 Axes>"
      ]
     },
     "metadata": {},
     "output_type": "display_data"
    }
   ],
   "source": [
    "# Plotting the results\n",
    "plt.figure(figsize=(14, 6))\n",
    "\n",
    "# Plot Actual vs. Predicted values\n",
    "plt.subplot(1, 2, 1)\n",
    "plt.scatter(y_test, y_pred, alpha=0.7, color='b')\n",
    "plt.xlabel('Actual Total_Amount')\n",
    "plt.ylabel('Predicted Total_Amount')\n",
    "plt.title('Actual vs Predicted Values')\n",
    "plt.plot([min(y_test), max(y_test)], [min(y_test), max(y_test)], color='red', linewidth=2)\n",
    "\n",
    "# Plot Residuals\n",
    "plt.subplot(1, 2, 2)\n",
    "residuals = y_test - y_pred\n",
    "plt.scatter(y_pred, residuals, alpha=0.7, color='b')\n",
    "plt.xlabel('Predicted Total_Amount')\n",
    "plt.ylabel('Residuals')\n",
    "plt.title('Residuals Plot')\n",
    "plt.axhline(y=0, color='red', linewidth=2)\n",
    "\n",
    "plt.tight_layout()\n",
    "plt.show()\n"
   ]
  }
 ],
 "metadata": {
  "kernelspec": {
   "display_name": "dsi_participant",
   "language": "python",
   "name": "python3"
  },
  "language_info": {
   "codemirror_mode": {
    "name": "ipython",
    "version": 3
   },
   "file_extension": ".py",
   "mimetype": "text/x-python",
   "name": "python",
   "nbconvert_exporter": "python",
   "pygments_lexer": "ipython3",
   "version": "3.9.18"
  }
 },
 "nbformat": 4,
 "nbformat_minor": 2
}
